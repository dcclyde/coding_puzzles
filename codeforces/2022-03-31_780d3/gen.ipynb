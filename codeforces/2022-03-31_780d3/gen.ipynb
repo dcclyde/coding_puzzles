{
 "cells": [
  {
   "cell_type": "code",
   "execution_count": null,
   "id": "trying-incentive",
   "metadata": {},
   "outputs": [],
   "source": []
  },
  {
   "cell_type": "code",
   "execution_count": 1,
   "id": "computational-dubai",
   "metadata": {},
   "outputs": [],
   "source": [
    "import os\n",
    "import random"
   ]
  },
  {
   "cell_type": "code",
   "execution_count": 3,
   "id": "employed-prayer",
   "metadata": {},
   "outputs": [],
   "source": [
    "def gen_test():\n",
    "    N = random.randint(1, 10)\n",
    "    dat = [random.randint(-2, 2) for x in range(N)]\n",
    "    out = f\"1\\n{N}\\n{' '.join(dat)}\\n\"\n",
    "    return out"
   ]
  },
  {
   "cell_type": "code",
   "execution_count": null,
   "id": "advanced-december",
   "metadata": {},
   "outputs": [],
   "source": []
  },
  {
   "cell_type": "code",
   "execution_count": null,
   "id": "flying-buyer",
   "metadata": {},
   "outputs": [],
   "source": [
    "while True:\n",
    "    with open('test.in', 'w') as f:\n",
    "        f.write(gen_test)\n",
    "    "
   ]
  },
  {
   "cell_type": "code",
   "execution_count": null,
   "id": "exposed-boston",
   "metadata": {},
   "outputs": [],
   "source": []
  },
  {
   "cell_type": "code",
   "execution_count": null,
   "id": "continuing-criminal",
   "metadata": {},
   "outputs": [],
   "source": []
  }
 ],
 "metadata": {
  "kernelspec": {
   "display_name": "Python 3",
   "language": "python",
   "name": "python3"
  },
  "language_info": {
   "codemirror_mode": {
    "name": "ipython",
    "version": 3
   },
   "file_extension": ".py",
   "mimetype": "text/x-python",
   "name": "python",
   "nbconvert_exporter": "python",
   "pygments_lexer": "ipython3",
   "version": "3.9.7"
  }
 },
 "nbformat": 4,
 "nbformat_minor": 5
}
