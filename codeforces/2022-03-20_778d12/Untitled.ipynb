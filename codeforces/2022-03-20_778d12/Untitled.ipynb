{
 "cells": [
  {
   "cell_type": "code",
   "execution_count": 3,
   "id": "resident-marks",
   "metadata": {},
   "outputs": [],
   "source": [
    "import random\n",
    "from collections import defaultdict"
   ]
  },
  {
   "cell_type": "code",
   "execution_count": 5,
   "id": "perceived-yeast",
   "metadata": {},
   "outputs": [],
   "source": [
    "def gcd(a, b):\n",
    "    if a == 0:\n",
    "        return b\n",
    "    return gcd(b%a, a)\n"
   ]
  },
  {
   "cell_type": "code",
   "execution_count": 7,
   "id": "green-receptor",
   "metadata": {},
   "outputs": [
    {
     "name": "stdout",
     "output_type": "stream",
     "text": [
      "289202\n"
     ]
    }
   ],
   "source": [
    "\n",
    "N = 1000\n",
    "A = [0] * N\n",
    "for k in range(1, N):\n",
    "    A[k] = random.randint(1, N)\n",
    "\n",
    "slopes = defaultdict(int)\n",
    "for k in range(N):\n",
    "    for j in range(k+1, N):\n",
    "        a = A[j] - A[k]\n",
    "        b = j - k\n",
    "        g = gcd(abs(a), abs(b))\n",
    "        a //= g\n",
    "        b //= g\n",
    "        slopes[(a, b)] += 1\n",
    "\n",
    "print(len(slopes))\n",
    "        \n"
   ]
  },
  {
   "cell_type": "code",
   "execution_count": 10,
   "id": "tough-pound",
   "metadata": {},
   "outputs": [],
   "source": [
    "N = 10**5\n",
    "dat = [random.randint(1,N) for k in range(N)]\n",
    "with open('E.in', 'w') as f:\n",
    "    print(N, file=f)\n",
    "    print(' '.join(str(x) for x in dat), file=f)\n",
    "        "
   ]
  },
  {
   "cell_type": "code",
   "execution_count": 9,
   "id": "constant-success",
   "metadata": {},
   "outputs": [
    {
     "data": {
      "text/plain": [
       "[85764]"
      ]
     },
     "execution_count": 9,
     "metadata": {},
     "output_type": "execute_result"
    }
   ],
   "source": [
    "dat[:1]"
   ]
  },
  {
   "cell_type": "code",
   "execution_count": null,
   "id": "hidden-nerve",
   "metadata": {},
   "outputs": [],
   "source": []
  },
  {
   "cell_type": "code",
   "execution_count": null,
   "id": "serious-calibration",
   "metadata": {},
   "outputs": [],
   "source": []
  }
 ],
 "metadata": {
  "kernelspec": {
   "display_name": "Python 3",
   "language": "python",
   "name": "python3"
  },
  "language_info": {
   "codemirror_mode": {
    "name": "ipython",
    "version": 3
   },
   "file_extension": ".py",
   "mimetype": "text/x-python",
   "name": "python",
   "nbconvert_exporter": "python",
   "pygments_lexer": "ipython3",
   "version": "3.9.7"
  }
 },
 "nbformat": 4,
 "nbformat_minor": 5
}
