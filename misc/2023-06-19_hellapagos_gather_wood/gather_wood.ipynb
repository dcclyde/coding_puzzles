{
 "cells": [
  {
   "cell_type": "code",
   "execution_count": null,
   "metadata": {},
   "outputs": [],
   "source": [
    "# This game is called Hellapagos."
   ]
  },
  {
   "cell_type": "code",
   "execution_count": 7,
   "metadata": {},
   "outputs": [],
   "source": [
    "import random\n",
    "\n",
    "# simulate.\n",
    "def sim(k, base, TRIALS=1_000_000):\n",
    "    step = 0\n",
    "    score = 0\n",
    "    while step < TRIALS:\n",
    "        # do I get sick?\n",
    "        if random.random() < k/6.:\n",
    "            # yes, I got sick.\n",
    "            score += base  # ! 1 without axe, 2 with axe\n",
    "            step += 2\n",
    "        else:\n",
    "            score += base + k\n",
    "            step += 1\n",
    "    \n",
    "    return score / TRIALS\n",
    "\n"
   ]
  },
  {
   "cell_type": "code",
   "execution_count": 8,
   "metadata": {},
   "outputs": [
    {
     "name": "stdout",
     "output_type": "stream",
     "text": [
      "0 1.0\n",
      "1 1.571924\n",
      "2 1.748825\n",
      "3 1.666158\n",
      "4 1.400621\n",
      "5 1.001435\n"
     ]
    }
   ],
   "source": [
    "for k in range(6):\n",
    "    print(k, sim(k, 1))"
   ]
  },
  {
   "cell_type": "code",
   "execution_count": 9,
   "metadata": {},
   "outputs": [
    {
     "name": "stdout",
     "output_type": "stream",
     "text": [
      "0 2.0\n",
      "1 2.427964\n",
      "2 2.50174\n",
      "3 2.334912\n",
      "4 2.00168\n",
      "5 1.54528\n"
     ]
    }
   ],
   "source": [
    "for k in range(6):\n",
    "    print(k, sim(k, 2))"
   ]
  },
  {
   "cell_type": "code",
   "execution_count": null,
   "metadata": {},
   "outputs": [],
   "source": []
  }
 ],
 "metadata": {
  "kernelspec": {
   "display_name": "Python 3",
   "language": "python",
   "name": "python3"
  },
  "language_info": {
   "codemirror_mode": {
    "name": "ipython",
    "version": 3
   },
   "file_extension": ".py",
   "mimetype": "text/x-python",
   "name": "python",
   "nbconvert_exporter": "python",
   "pygments_lexer": "ipython3",
   "version": "3.10.6"
  },
  "orig_nbformat": 4
 },
 "nbformat": 4,
 "nbformat_minor": 2
}
