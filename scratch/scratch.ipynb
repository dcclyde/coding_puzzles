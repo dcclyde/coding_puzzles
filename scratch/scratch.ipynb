{
 "cells": [
  {
   "cell_type": "code",
   "execution_count": 1,
   "id": "iraqi-kitty",
   "metadata": {},
   "outputs": [],
   "source": [
    "dat = [-18, 31, -16, 12, -44, -5, 24, 17, -37, -31, 46, -24, -2, 11, 32, 16, 0, -39, 35, 38]\n",
    "dat.sort()\n"
   ]
  },
  {
   "cell_type": "code",
   "execution_count": 2,
   "id": "prerequisite-tulsa",
   "metadata": {},
   "outputs": [
    {
     "data": {
      "text/plain": [
       "[-44,\n",
       " -39,\n",
       " -37,\n",
       " -31,\n",
       " -24,\n",
       " -18,\n",
       " -16,\n",
       " -5,\n",
       " -2,\n",
       " 0,\n",
       " 11,\n",
       " 12,\n",
       " 16,\n",
       " 17,\n",
       " 24,\n",
       " 31,\n",
       " 32,\n",
       " 35,\n",
       " 38,\n",
       " 46]"
      ]
     },
     "execution_count": 2,
     "metadata": {},
     "output_type": "execute_result"
    }
   ],
   "source": [
    "dat"
   ]
  },
  {
   "cell_type": "code",
   "execution_count": 6,
   "id": "federal-declaration",
   "metadata": {},
   "outputs": [
    {
     "name": "stdout",
     "output_type": "stream",
     "text": [
      "0\t-44\t46\t2\n",
      "1\t-39\t38\t-1\n",
      "2\t-37\t35\t-2\n",
      "3\t-31\t32\t1\n",
      "4\t-24\t31\t7\n",
      "5\t-18\t24\t6\n",
      "6\t-16\t17\t1\n",
      "7\t-5\t16\t11\n",
      "8\t-2\t12\t10\n",
      "9\t0\t11\t11\n",
      "10\t11\t0\t11\n"
     ]
    }
   ],
   "source": [
    "for k in range(len(dat)):\n",
    "    print('\\t'.join(str(x) for x in [k, dat[k], dat[-1-k], dat[k] + dat[-1-k]]))\n",
    "    if k >= len(dat)-1-k:\n",
    "        break"
   ]
  },
  {
   "cell_type": "code",
   "execution_count": null,
   "id": "three-yield",
   "metadata": {},
   "outputs": [],
   "source": []
  }
 ],
 "metadata": {
  "kernelspec": {
   "display_name": "Python 3",
   "language": "python",
   "name": "python3"
  },
  "language_info": {
   "codemirror_mode": {
    "name": "ipython",
    "version": 3
   },
   "file_extension": ".py",
   "mimetype": "text/x-python",
   "name": "python",
   "nbconvert_exporter": "python",
   "pygments_lexer": "ipython3",
   "version": "3.9.7"
  }
 },
 "nbformat": 4,
 "nbformat_minor": 5
}
